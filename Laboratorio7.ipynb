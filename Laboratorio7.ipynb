{
 "cells": [
  {
   "cell_type": "markdown",
   "metadata": {},
   "source": [
    "# Ejercicio 1  \n",
    "Muestre que si X y Y tiene la misma distribución, entonces:  \n",
    "$$\n",
    "VAR(\\frac{X + Y}{2}) \\leq VAR(X)\n",
    "$$\n",
    "\n",
    "y concluya que el uso de las variables antitéticas nunca puede incrementar la varianza (Desigualdad\n",
    "Cauchy-Schwarz $ E(XY) \\leq E(X^2)E(Y^2) \\implies E(XY) \\leq E(X^2) $\n",
    "\n",
    "---"
   ]
  },
  {
   "cell_type": "markdown",
   "metadata": {},
   "source": [
    "Primero, calculamos el valor de la varianza:\n",
    "\n",
    "como sabemos que $ Var(\\alpha Z) = \\alpha^2 Var(Z) $ entonces:\n",
    "\n",
    "$$\n",
    "VAR(\\frac{X + Y}{2}) = \\frac{1}{4} Var(X + Y) \\\\ \n",
    "\n",
    "\\frac{1}{4} Var(X + Y) = \\frac{1}{4} (Var(X) + Var(Y) + 2Cov(X,Y)) \n",
    "$$\n",
    "\n",
    "Como X e Y tienen la misma distribución $ Var(X) = Var(Y) $:\n",
    "$$\n",
    "\\frac{1}{4} (Var(X) + Var(Y) + Cov(X,Y)) = \\frac{1}{4} (2 Var(X) + 2Cov(X,Y)) = \n",
    "\\frac{1}{2}Var(X) + \\frac{1}{2}Cov(X,Y)\n",
    "$$\n",
    "\n",
    "Sabemos por la desigualdad de Cauchy-Schwarz que:\n",
    "$$\n",
    "\\text{Cov}(X, Y) \\leq \\sqrt{\\text{Var}(X) \\text{Var}(Y)} = \\text{Var}(X)\n",
    "$$\n",
    "\n",
    "Entonces:\n",
    "\n",
    "$$\n",
    "\n",
    "\\text{Var}\\left(\\frac{X + Y}{2}\\right) \\leq \\frac{1}{2} \\text{Var}(X) + \\frac{1}{2} \\text{Var}(X) = \\text{Var}(X)\n",
    "\n",
    "$$\n",
    "\n"
   ]
  },
  {
   "cell_type": "markdown",
   "metadata": {},
   "source": [
    "# Ejercicio 2\n",
    "\n",
    "Muestre que: \n",
    "\n",
    "$$ \n",
    "Var(\\alpha X + (1-\\alpha)W)\n",
    "$$\n",
    "\n",
    "Se minimiza con α igual al valor dado en la ecuación:\n",
    "\n",
    "$$\n",
    "\\alpha = \\frac{Var(W) - Cov(X,W)}{Var(X) + Var(W) - 2Cov(X,W)}\n",
    "$$  \n",
    "\n",
    "---"
   ]
  },
  {
   "cell_type": "markdown",
   "metadata": {},
   "source": [
    "Primero simplificamos la expresión:\n",
    "$$ \n",
    "\\text{Var}(\\alpha X + (1 - \\alpha) W) = \\alpha^2 \\text{Var}(X) + (1 - \\alpha)^2 \\text{Var}(W) + 2\\alpha(1 - \\alpha) \\text{Cov}(X, W)\n",
    "$$\n",
    "\n",
    "Para minimizar esta expresión, derivamos la varianza respecto a  \\alpha  y luego igualamos a cero. Comencemos derivando la función:\n",
    "\n",
    "$$\n",
    "\\frac{d}{d\\alpha} \\left( \\alpha^2 \\text{Var}(X) + (1 - \\alpha)^2 \\text{Var}(W) + 2\\alpha(1 - \\alpha) \\text{Cov}(X, W) \\right)\n",
    "$$\n",
    "\n",
    "Derivemos cada término:\n",
    "\n",
    "- Derivada de  $\\alpha^2 \\text{Var}(X)$ :\n",
    "\n",
    "$$ 2\\alpha \\text{Var}(X) $$\n",
    "\n",
    "- Derivada de  $ (1 - \\alpha)^2 \\text{Var}(W) $:\n",
    "\n",
    "$$ 2(1 - \\alpha) \\text{Var}(W) $$\n",
    "\n",
    "- Derivada de  $ 2\\alpha(1 - \\alpha) \\text{Cov}(X, W) $:\n",
    "\n",
    "$$ 2 \\text{Cov}(X, W) \\left( (1 - \\alpha) - \\alpha \\right) = 2 \\text{Cov}(X, W) (1 - 2\\alpha) $$\n",
    "\n",
    "\n",
    "Juntamos las derivadas e igualamos a 0 para encontrar el mínimo de $\\alpha$:\n",
    "\n",
    "$$\n",
    "2\\alpha \\text{Var}(X) - 2(1 - \\alpha) \\text{Var}(W) + 2 \\text{Cov}(X, W) (1 - 2\\alpha) = 0\n",
    "$$\n",
    "\n",
    "Simplificamos:\n",
    "$$ \n",
    "\n",
    "2\\alpha \\text{Var}(X) - 2 \\text{Var}(W) + 2\\alpha \\text{Var}(W) + 2 \\text{Cov}(X, W) - 4\\alpha \\text{Cov}(X, W) = 0\n",
    "\n",
    "$$\n",
    "\n",
    "Factorizamos $\\alpha$ y reorganizamos la ecuación:\n",
    "\n",
    "$$\n",
    "\n",
    "\\alpha(2 \\text{Var}(X) + 2 \\text{Var}(W) - 4 \\text{Cov}(X, W)) = 2 \\text{Var}(W) - 2 \\text{Cov}(X, W)\n",
    "\n",
    "$$\n",
    "\n",
    "Despejamos para $\\alpha$:\n",
    "\n",
    "$$\n",
    "\n",
    "\\alpha = \\frac{\\text{Var}(W) - \\text{Cov}(X, W)}{\\text{Var}(X) + \\text{Var}(W) - 2 \\text{Cov}(X, W)}\n",
    "\n",
    "$$\n",
    "\n",
    "\n",
    "Finalmente, sustituimos esa expresion para obtener la varianza resultante\n",
    "\n",
    "$$\n",
    "Var(\\frac{\\text{Var}(W) - \\text{Cov}(X, W)}{\\text{Var}(X) + \\text{Var}(W) - 2 \\text{Cov}(X, W)} X + (1-\\frac{\\text{Var}(W) - \\text{Cov}(X, W)}{\\text{Var}(X) + \\text{Var}(W) - 2 \\text{Cov}(X, W)})W)\n",
    "$$"
   ]
  },
  {
   "cell_type": "markdown",
   "metadata": {},
   "source": [
    "- - -"
   ]
  },
  {
   "cell_type": "markdown",
   "metadata": {},
   "source": [
    "# Ejercicio 3"
   ]
  },
  {
   "cell_type": "markdown",
   "metadata": {},
   "source": [
    "Escriba un programa que calcule el valor esperado de una variable aleatoria exponencial utilizando el método\n",
    "estratificado. Escoja tres estratos (intervalos) de 0 a 1, de 1 a 3, y de 3 a infinito."
   ]
  },
  {
   "cell_type": "code",
   "execution_count": 1,
   "metadata": {},
   "outputs": [
    {
     "name": "stdout",
     "output_type": "stream",
     "text": [
      "\n",
      "Procesando estrato 1: intervalo [0, 1]\n",
      "Generando 1000 muestras en el intervalo [0, 1]: [0.52057139 0.53493887 0.10472739 0.41304181 0.35786442]... (primeras 5 muestras)\n",
      "Valor esperado en el estrato 1: 0.6304857351437078\n",
      "\n",
      "Procesando estrato 2: intervalo [1, 3]\n",
      "Generando 1000 muestras en el intervalo [1, 3]: [1.86409268 1.05185871 2.34032378 1.16336087 2.01924703]... (primeras 5 muestras)\n",
      "Valor esperado en el estrato 2: 0.15953552930797288\n",
      "\n",
      "Procesando estrato 3: intervalo [3, ∞]\n",
      "Generando 46 muestras en el intervalo [3, ∞): [4.11361436 4.16767441 3.57141488 6.34410271 4.84112332]... (primeras 5 muestras)\n",
      "Valor esperado en el estrato 3: 0.023470860843662383\n",
      "\n",
      "Valor esperado total estimado (método estratificado): 0.813492125295343\n"
     ]
    }
   ],
   "source": [
    "import numpy as np\n",
    "\n",
    "def valor_esperado_exponencial_estratificado(lambda_val, num_muestras):\n",
    "    # Estratos definidos: [0,1], [1,3], [3,∞]\n",
    "    estratos = [(0, 1), (1, 3), (3, np.inf)]\n",
    "    \n",
    "    # Para almacenar el valor esperado por cada estrato\n",
    "    valor_esperado_por_estrato = []\n",
    "    \n",
    "    # Ciclo para cada estrato\n",
    "    for i, (a, b) in enumerate(estratos):\n",
    "        print(f\"\\nProcesando estrato {i+1}: intervalo [{a}, {b if b != np.inf else '∞'}]\")\n",
    "        \n",
    "        if b == np.inf:\n",
    "            # Generamos muestras para el estrato [3, ∞) usando la inversa de la función de distribución acumulativa\n",
    "            u = np.random.uniform(0, 1, num_muestras)\n",
    "            muestras = -np.log(u) / lambda_val\n",
    "            muestras = muestras[muestras > 3]\n",
    "            print(f\"Generando {len(muestras)} muestras en el intervalo [3, ∞): {muestras[:5]}... (primeras 5 muestras)\")\n",
    "        else:\n",
    "            # Para estratos finitos, generamos muestras restringidas al intervalo [a, b]\n",
    "            muestras = np.random.uniform(a, b, num_muestras)\n",
    "            print(f\"Generando {len(muestras)} muestras en el intervalo [{a}, {b}]: {muestras[:5]}... (primeras 5 muestras)\")\n",
    "        \n",
    "        # Calculamos el valor esperado en el estrato\n",
    "        valores_exponenciales = np.exp(-lambda_val * muestras)\n",
    "        valor_esperado = np.mean(valores_exponenciales)\n",
    "        print(f\"Valor esperado en el estrato {i+1}: {valor_esperado}\")\n",
    "        \n",
    "        valor_esperado_por_estrato.append(valor_esperado)\n",
    "    \n",
    "    # Sumamos las contribuciones de cada estrato\n",
    "    valor_esperado_total = np.sum(valor_esperado_por_estrato)\n",
    "    \n",
    "    print(f\"\\nValor esperado total estimado (método estratificado): {valor_esperado_total}\")\n",
    "    return valor_esperado_total\n",
    "\n",
    "# Parámetros\n",
    "lambda_val = 1.0  # Tasa de la distribución exponencial\n",
    "num_muestras = 1000  # Número de muestras por estrato\n",
    "\n",
    "# Cálculo del valor esperado\n",
    "valor_esperado = valor_esperado_exponencial_estratificado(lambda_val, num_muestras)\n"
   ]
  },
  {
   "cell_type": "markdown",
   "metadata": {},
   "source": [
    "- - -"
   ]
  },
  {
   "cell_type": "markdown",
   "metadata": {},
   "source": [
    "# Ejercicio 4"
   ]
  },
  {
   "cell_type": "markdown",
   "metadata": {},
   "source": [
    "Dadas dos variables aleatorias $( X )$ y $( Y )$, donde $X \\sim \\text{Exp}(1)$ y $Y \\sim \\text{Exp}(0.5)$, se busca estimar $P(X + Y > 4) $ utilizando simulación y la esperanza condicional para reducir la varianza del estimador.\n",
    "\n",
    "La clave es determinar si debemos condicionar sobre $( X )$ o $( Y )$. El propósito de condicionar es reducir la varianza eliminando parte de la incertidumbre. Vamos a considerar ambas opciones.\n",
    "\n",
    "### 1. Condicionar sobre \\( X \\):\n",
    "\n",
    "Si condicionamos sobre $( X )$, queremos calcular:\n",
    "\n",
    "$$\n",
    "P(X + Y > 4 \\mid X = x) = P(Y > 4 - x)\n",
    "$$\n",
    "\n",
    "Dado que $Y \\sim \\text{Exp}(0.5)$, la probabilidad condicional se calcula como:\n",
    "\n",
    "$$\n",
    "P(Y > 4 - x) = e^{-0.5(4 - x)} = e^{-2 + 0.5x}\n",
    "$$\n",
    "\n",
    "El valor esperado de esta probabilidad condicional es:\n",
    "\n",
    "$$\n",
    "\\mathbb{E}[P(X + Y > 4 \\mid X)] = \\mathbb{E}[e^{-2 + 0.5X}]\n",
    "$$\n",
    "\n",
    "Dado que $X \\sim \\text{Exp}(1)$, sabemos que su densidad es $f_X(x) = e^{-x}$, por lo tanto, podemos calcular:\n",
    "\n",
    "$$\n",
    "\\mathbb{E}[e^{0.5X}] = \\int_0^\\infty e^{0.5x} e^{-x} dx = \\int_0^\\infty e^{-0.5x} dx = \\frac{1}{0.5} = 2\n",
    "$$\n",
    "\n",
    "Por lo tanto, el valor esperado total es:\n",
    "\n",
    "$$\n",
    "\\mathbb{E}[P(X + Y > 4 \\mid X)] = e^{-2} \\times 2 = 2e^{-2}\n",
    "$$\n",
    "\n",
    "### 2. Condicionar sobre \\( Y \\):\n",
    "\n",
    "Si condicionamos sobre $( Y )$, queremos calcular:\n",
    "\n",
    "$$\n",
    "P(X + Y > 4 \\mid Y = y) = P(X > 4 - y)\n",
    "$$\n",
    "\n",
    "Dado que $X \\sim \\text{Exp}(1)$, la probabilidad condicional se calcula como:\n",
    "\n",
    "$$\n",
    "P(X > 4 - y) = e^{-(4 - y)} = e^{y - 4}\n",
    "$$\n",
    "\n",
    "El valor esperado de esta probabilidad condicional es:\n",
    "\n",
    "$$\n",
    "\\mathbb{E}[P(X + Y > 4 \\mid Y)] = \\mathbb{E}[e^{Y - 4}]\n",
    "$$\n",
    "\n",
    "Dado que $Y \\sim \\text{Exp}(0.5)$, sabemos que su densidad es $f_Y(y) = 0.5 e^{-0.5y}$, por lo que podemos calcular:\n",
    "\n",
    "$$\n",
    "\\mathbb{E}[e^Y] = \\int_0^\\infty e^y 0.5 e^{-0.5y} dy = 0.5 \\int_0^\\infty e^{0.5y} dy = \\frac{0.5}{0.5} = 1\n",
    "$$\n",
    "\n",
    "Por lo tanto, el valor esperado total es:\n",
    "\n",
    "$$\n",
    "\\mathbb{E}[P(X + Y > 4 \\mid Y)] = e^{-4} \\times 1 = e^{-4}\n",
    "$$\n",
    "\n",
    "### 3. Comparación\n",
    "\n",
    "- Condicionar sobre $( X )$ da un valor esperado de $2e^{-2}$\n",
    "- Condicionar sobre $( Y )$ da un valor esperado de $e^{-4}$\n",
    "\n",
    "En este caso, $2e^{-2}$ es mayor que $e^{-4}$, lo que sugiere que **condicionar sobre \\( X \\)** es preferible, ya que reduce más la incertidumbre.\n",
    "\n",
    "### Conclusión\n",
    "\n",
    "Para reducir la varianza del estimador, es mejor condicionar sobre $( X )$, ya que tiene una tasa mayor $( \\lambda = 1 )$ y, por lo tanto, su contribución a la incertidumbre es mayor que la de $( Y )$ $( \\lambda = 0.5 )$.\n"
   ]
  },
  {
   "cell_type": "markdown",
   "metadata": {},
   "source": [
    "- - -"
   ]
  },
  {
   "cell_type": "markdown",
   "metadata": {},
   "source": [
    "# Ejercicio 5"
   ]
  },
  {
   "cell_type": "markdown",
   "metadata": {},
   "source": [
    "Vea el siguiente video del minuto 3:12 a 19:00\n",
    "https://youtu.be/PMFWQigpgZA?t=192\n",
    "\n",
    "También vea el siguiente video del minuto 0:00 al 13:57\n",
    "https://youtu.be/yQ5rSbTXADc\n",
    "\n",
    "Y responda las siguientes preguntas\n",
    "\n",
    "- ¿Cómo definiría, usando sus propias palabras, el campo de la inteligencia artificial?\n",
    "- ¿Cómo definiría, usando sus propias palabras, el campo de “simulation modeling”?\n",
    "- ¿Cuál es la diferencia entre Inteligencia Artificial y Simulation Modeling?\n",
    "- ¿Cómo se pueden combinar la inteligencia artificial y el simulation modeling?\n",
    "- ¿Qué aplicaciones conjuntas pueden tener estos dos campos? ¿Cómo?"
   ]
  },
  {
   "cell_type": "markdown",
   "metadata": {},
   "source": [
    "**¿Cómo definiría, usando sus propias palabras, el campo de la inteligencia artificial?**\n",
    "- La Inteligencia Artificial sería una rama de la informática que busca desarrollar o crear sistemas que puedan hacer tareas que requieren inteligencia humana, que sería por ejemplo la toma de decisiones, reconocer patrones, resolver problemas complejos y creo que lo principal es aprender partiendo de la experiencia. Entonces a nuestro pensar, la IA se enfoca en desarrollar algoritmos y modelos que permiten a las máquinas el simular habilidades cognitivas propias del ser humano."
   ]
  },
  {
   "cell_type": "markdown",
   "metadata": {},
   "source": [
    "**¿Cómo definiría, usando sus propias palabras, el campo de “simulation modeling”?**\n",
    "- Es una técnica para crear modelos que representan sistemas reales o imaginarios con el objetivo de estudiar su comportamiento con distinto escenarios. Y con esto, a través de simulaciones es posible el analizar cómo reacciona un sistema que se somete a ciertas condiciones específicas sin necesidad de experimentarlo directamente en el mundo real."
   ]
  },
  {
   "cell_type": "markdown",
   "metadata": {},
   "source": [
    "**¿Cuál es la diferencia entre Inteligencia Artificial y Simulation Modeling?**\n",
    "- La Inteligencia Artifical hace que las máquinas se doten de la capacidad de pensar o de resolver problemas de manera autónoma, mientras que el Simulation Modeling se enfoca en imitar el comportamiento de sistemas reles o bien teóricos para predecir o analizar su desempeño."
   ]
  },
  {
   "cell_type": "markdown",
   "metadata": {},
   "source": [
    "**¿Cómo se pueden combinar la inteligencia artificial y el simulation modeling?**\n",
    "- La simulación y la IA se pueden combinar a la hora de utilizar algoritmos de IA para mejorar la precisión de los modelos de simulación o cuando las simulaciones generan datos para entrenar algoritmos de IA.\n",
    "- La IA puede optimizar simulaciones complejas ajustando parámetros de forma automática o aprendiendo de los reslutados de múltiples soluciones, así es como iría de la mano IA  con Simulation Modeling."
   ]
  },
  {
   "cell_type": "markdown",
   "metadata": {},
   "source": [
    "**¿Qué aplicaciones conjuntas pueden tener estos dos campos? ¿Cómo?**\n",
    "- El combinar el Simulation Modeling con IA puede resultar en el veneficio de varias áreas. Que van desde la salud, logística, clima e incluso en videojuegos.\n",
    "- Hablando de salud, se pueden aplicar simulaciones complejas como la respuesta del cuerpo humano a ciertos tratamientos, donde la IA ayuda a predecir los resultados personalizados.\n",
    "- En ingeniería, la simulación de procesos industriales optimizados mediante IA para mejorar el rendimiento o minimizar costos.\n",
    "- En clima, los modelos de simulación del cambio climático que integran IA para predecir fenómenos meteorológicos con mayor precisión."
   ]
  }
 ],
 "metadata": {
  "kernelspec": {
   "display_name": "Python 3",
   "language": "python",
   "name": "python3"
  },
  "language_info": {
   "codemirror_mode": {
    "name": "ipython",
    "version": 3
   },
   "file_extension": ".py",
   "mimetype": "text/x-python",
   "name": "python",
   "nbconvert_exporter": "python",
   "pygments_lexer": "ipython3",
   "version": "3.12.4"
  }
 },
 "nbformat": 4,
 "nbformat_minor": 2
}
